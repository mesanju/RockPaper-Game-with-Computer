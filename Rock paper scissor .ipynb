{
 "cells": [
  {
   "cell_type": "markdown",
   "metadata": {},
   "source": [
    "# Rock Paper Scissor Game with computer!"
   ]
  },
  {
   "cell_type": "code",
   "execution_count": 18,
   "metadata": {},
   "outputs": [
    {
     "name": "stdout",
     "output_type": "stream",
     "text": [
      "Player make your move: rock\n",
      " Computer playes paper\n",
      "Computer wins!\n"
     ]
    }
   ],
   "source": [
    "#from random import randint\n",
    "\n",
    "player = input(\"Player make your move: \").lower() # to conver all the inputs in lower regardless of waht user types\n",
    "rand_num = randint(0,2)\n",
    "\n",
    "if rand_num == 0:\n",
    "    computer = \"rock\"\n",
    "elif rand_num ==1:\n",
    "    computer = \"paper\"\n",
    "else:\n",
    "    computer = \"scissor\"\n",
    "\n",
    "print(f\" Computer playes {computer}\")\n",
    "\n",
    "if player ==computer:\n",
    "    print(\"It's a tie!\")\n",
    "    \n",
    "elif player == \"rock\":\n",
    "    if computer == \"scissor\":\n",
    "        print(\"Player wins!\")\n",
    "    else:\n",
    "        print(\"Computer wins!\")\n",
    "        \n",
    "elif player == \"scissor\":\n",
    "    if computer == \"paper\":\n",
    "        print(\"Player wins!\")\n",
    "    else:\n",
    "        print(\"Computer wins!\")\n",
    "        \n",
    "elif player == \"paper\":\n",
    "    if computer == \"rock\":\n",
    "        print(\"Player wins!\")\n",
    "    else:\n",
    "        print(\"Computer wins!\")\n",
    "        \n",
    "else:\n",
    "    print(\"Please enter a valid word\")\n",
    "    \n",
    "\n",
    "\n",
    "\n"
   ]
  },
  {
   "cell_type": "code",
   "execution_count": null,
   "metadata": {},
   "outputs": [],
   "source": []
  },
  {
   "cell_type": "code",
   "execution_count": null,
   "metadata": {},
   "outputs": [],
   "source": []
  }
 ],
 "metadata": {
  "kernelspec": {
   "display_name": "Python 3",
   "language": "python",
   "name": "python3"
  },
  "language_info": {
   "codemirror_mode": {
    "name": "ipython",
    "version": 3
   },
   "file_extension": ".py",
   "mimetype": "text/x-python",
   "name": "python",
   "nbconvert_exporter": "python",
   "pygments_lexer": "ipython3",
   "version": "3.7.3"
  }
 },
 "nbformat": 4,
 "nbformat_minor": 2
}
